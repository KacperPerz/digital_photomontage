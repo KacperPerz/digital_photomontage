{
 "cells": [
  {
   "cell_type": "code",
   "execution_count": null,
   "id": "f5d04752-5dfd-4da4-bd83-dd81fad2a117",
   "metadata": {},
   "outputs": [],
   "source": [
    "import numpy as np\n",
    "import cv2"
   ]
  },
  {
   "cell_type": "code",
   "execution_count": null,
   "id": "1e5e0164-ce71-4c2d-b6b4-1f3062537221",
   "metadata": {},
   "outputs": [],
   "source": [
    "from pathlib import Path\n",
    "import numpy as np\n",
    "import cv2\n",
    "from PIL import Image\n",
    "\n",
    "\n",
    "def imshow(a):\n",
    "  a = a.clip(0, 255).astype('uint8')\n",
    "  if a.ndim == 3:\n",
    "    if a.shape[2] == 4:\n",
    "      a = cv2.cvtColor(a, cv2.COLOR_BGRA2RGBA)\n",
    "    else:\n",
    "      a = cv2.cvtColor(a, cv2.COLOR_BGR2RGB)\n",
    "  display(Image.fromarray(a))\n",
    "\n",
    "\n",
    "def display_images(path):\n",
    "    images = []\n",
    "    path = Path(path)\n",
    "    for img in path.glob('*.jpg'):\n",
    "        images.append(cv2.imread(str(img)))\n",
    "    imshow(np.concatenate(images, axis=1))\n",
    "\n",
    "display_images('cathedral/')"
   ]
  },
  {
   "cell_type": "code",
   "execution_count": null,
   "id": "46ec74ad-ec01-495f-998e-aac311910026",
   "metadata": {},
   "outputs": [],
   "source": [
    "image = cv2.imread(\"cathedral/d001.jpg\")\n",
    "image2 = cv2.imread('cathedral/d002.jpg')\n",
    "image3 = cv2.imread('cathedral/d003.jpg')\n",
    "image4 = cv2.imread('cathedral/d004.jpg')\n",
    "image5 = cv2.imread('cathedral/d005.jpg')\n",
    "\n",
    "photos = np.array([image, image2, image3, image4, image5])"
   ]
  },
  {
   "cell_type": "code",
   "execution_count": null,
   "id": "a92b7c66-5e1c-48ef-a811-0058d3c4ea70",
   "metadata": {},
   "outputs": [],
   "source": [
    "image.shape == image2.shape == image3.shape == image4.shape == image5.shape"
   ]
  },
  {
   "cell_type": "code",
   "execution_count": null,
   "id": "03b77ec9-ce7f-4233-aeb4-00435d620766",
   "metadata": {
    "scrolled": true
   },
   "outputs": [],
   "source": [
    "image.shape"
   ]
  },
  {
   "cell_type": "code",
   "execution_count": null,
   "id": "cad8c017-0744-463e-9918-66dd5b1521a1",
   "metadata": {},
   "outputs": [],
   "source": [
    "gray_photos = np.array([cv2.cvtColor(photo, cv2.COLOR_BGR2GRAY) for photo in photos])\n",
    "hsv_photos = np.array([cv2.cvtColor(photo, cv2.COLOR_BGR2HSV) for photo in photos])"
   ]
  },
  {
   "cell_type": "code",
   "execution_count": null,
   "id": "bcbcd5bb-2ed1-4669-932a-9970e504eb62",
   "metadata": {},
   "outputs": [],
   "source": [
    "imshow(gray_photos[1])"
   ]
  },
  {
   "cell_type": "code",
   "execution_count": null,
   "id": "d6bc79b3-b239-4e65-bcb0-279aaace9089",
   "metadata": {},
   "outputs": [],
   "source": [
    "# maximum - najczesciej wystepujacy piksel\n",
    "# mozemy badac 3 kanaly - czyli najczesciej wystepujacy r, g oraz b i z nich tworzyc piksel\n",
    "def maximum_likelihood(photos):\n",
    "    # photos.shape = (5, 500, 752, 3)\n",
    "    counts = np.bincount(photos)\n",
    "    np.argmax(counts)\n",
    "    # input: rgb, 3 kanaly. piksele mozna porownywac calosciowo, czyli usredniajac 3 kanaly\n",
    "    # albo mozna porownywac kanaly w ramach jednego piksela\n",
    "    pass\n",
    "\n",
    "def minimum_likelihood():\n",
    "    pass\n",
    "def median_likelihood():\n",
    "    pass\n",
    "def avg_likelihood():\n",
    "    pass"
   ]
  },
  {
   "cell_type": "markdown",
   "id": "53546d73-7f0a-44cf-8a16-000bc876f8fa",
   "metadata": {},
   "source": [
    "-----------------------------------"
   ]
  },
  {
   "cell_type": "code",
   "execution_count": null,
   "id": "e9db4add-3832-4307-aaa1-8e3a3de7ad8c",
   "metadata": {},
   "outputs": [],
   "source": [
    "imshow(np.median(photos, axis=0))"
   ]
  },
  {
   "cell_type": "code",
   "execution_count": null,
   "id": "f4032793-2e2b-4f36-a6a3-677e66cb18f7",
   "metadata": {},
   "outputs": [],
   "source": [
    "imshow(np.min(photos, axis=0))"
   ]
  },
  {
   "cell_type": "code",
   "execution_count": null,
   "id": "c3e64aec-e36e-4a94-8e16-41a435bb3881",
   "metadata": {},
   "outputs": [],
   "source": [
    "imshow(np.max(photos, axis=0))"
   ]
  },
  {
   "cell_type": "code",
   "execution_count": null,
   "id": "5513bd32-8586-4510-8901-b1f83797f55f",
   "metadata": {},
   "outputs": [],
   "source": [
    "imshow(np.mean(photos, axis=0))"
   ]
  },
  {
   "cell_type": "code",
   "execution_count": null,
   "id": "1c9d5f6f-2ca4-4d39-a9ef-fffe5de3e73c",
   "metadata": {},
   "outputs": [],
   "source": [
    "how_many = 0\n",
    "for i in range(500):\n",
    "    for j in range(725):\n",
    "        if photos[1][i][j][0] == photos[0][i][j][0] == photos[2][i][j][0] == photos[3][i][j][0] == photos[4][i][j][0]:\n",
    "            how_many += 1\n",
    "\n",
    "print(how_many)\n",
    "\n",
    "print(photos[0, ..., 0] - photos[1, ..., 0]) # ZDJECIA SA ROZNE, COS PIEKNEGO"
   ]
  },
  {
   "cell_type": "code",
   "execution_count": null,
   "id": "8137c4c6-6f4a-4fe7-962e-0465c9bf7790",
   "metadata": {},
   "outputs": [],
   "source": [
    "# dziala slabo poniewaz - zgodnie z powyzsza komorka - tlo, ktore staramy sie wyekstrahowac nie jest wcale takie samo na kazdej fotce\n",
    "# (czego sie dalo domyslic), dlatego \n",
    "\n",
    "def most_frequent_value(photos): # (5, 500, 725, 3)\n",
    "    stack_photos = photos\n",
    "    \n",
    "    # piksele na wierszach\n",
    "    stack_pixels = stack_photos.reshape(-1, 3)\n",
    "    most_frequent_pixel = np.zeros((500, 725, 3), dtype=np.uint8)\n",
    "    \n",
    "    for i in range(500):\n",
    "        for j in range(725):\n",
    "            # wyjmij wartości RGB na pozycji (i,j) na wszystkich fotkach\n",
    "            pixel_values = stack_photos[:, i, j, :]\n",
    "            print(pixel_values.shape)\n",
    "            \n",
    "            # zlicz unikalne wartości RGB\n",
    "            for k in range(5):\n",
    "                unique_pixels, counts = np.unique(pixel_values, axis=0, return_counts=True)\n",
    "            \n",
    "            # znajdź indeks najczęstszej wartości i przypisz\n",
    "            most_frequent_index = np.argmax(counts)\n",
    "            most_frequent_pixel[i, j] = unique_pixels[most_frequent_index]\n",
    "    \n",
    "    print(\"Most frequent RGB value shape:\", most_frequent_pixel.shape)\n",
    "    return most_frequent_pixel\n",
    "\n",
    "imshow(most_frequent_value(photos))"
   ]
  },
  {
   "cell_type": "code",
   "execution_count": null,
   "id": "f0075999-2154-47fc-adf4-04d04ce0b016",
   "metadata": {},
   "outputs": [],
   "source": [
    "def most_similar_value(photos): # (5, 500, 725, 3)\n",
    "    stack_photos = photos\n",
    "    \n",
    "    # piksele na wierszach\n",
    "    stack_pixels = stack_photos.reshape(-1, 3)\n",
    "    most_frequent_pixel = np.zeros((500, 725, 3), dtype=np.uint8)\n",
    "    \n",
    "    for i in range(500):\n",
    "        for j in range(725):\n",
    "            # wyjmij wartości RGB na pozycji (i,j) na wszystkich fotkach\n",
    "            pixel_values = stack_photos[:, i, j, :]\n",
    "            \n",
    "            # zlicz unikalne wartości RGB\n",
    "            unique_pixels, counts = np.unique(pixel_values, axis=0, return_counts=True)\n",
    "            print(unique_pixels, counts)\n",
    "            \n",
    "            # znajdź indeks najczęstszej wartości i przypisz\n",
    "            most_frequent_index = np.argmax(counts)\n",
    "            most_frequent_pixel[i, j] = unique_pixels[most_frequent_index]\n",
    "    \n",
    "    print(\"Most frequent RGB value shape:\", most_frequent_pixel.shape)\n",
    "    return most_frequent_pixel\n",
    "\n",
    "imshow(most_similar_value(photos))"
   ]
  },
  {
   "cell_type": "code",
   "execution_count": null,
   "id": "13e475b6-8dc8-4458-aa71-01561d58f3f6",
   "metadata": {},
   "outputs": [],
   "source": [
    "# UDOSKONALENIE: jeżeli najczęściej występujący piksel sobie nie radzi, to znajdźmy najmniej różniącego się od wszystkich innych"
   ]
  },
  {
   "cell_type": "code",
   "execution_count": null,
   "id": "144d9834-d4c1-4ad3-89e4-d1acee785f0f",
   "metadata": {},
   "outputs": [],
   "source": [
    "def maximum_likelihood(photos):\n",
    "    avg = np.mean(photos, axis=0) # odchylenie standardowe miedzy pikselami obrazow\n",
    "    # std = np.array([std for _ in range(5)])\n",
    "    print(avg.shape) # (500, 725, 3)\n",
    "\n",
    "    # mam 5 zdjec\n",
    "    # mam M = tablice srednich 3 kanalow pomiedzy 5 zdjeciami\n",
    "    # dla kazdego piksela znalezc indeks zdjecia, \n",
    "    # dla ktorego suma roznic miedzy pikselami 3 kanalow, a odpowiadajaca im srednia z tablicy M jest najmniejsza\n",
    "\n",
    "    np.sum(\n",
    "    np.subtract(photos[...,::1]})\n",
    "        \n",
    "    print(avg.shape)\n",
    "    \n",
    "    # min_distance = 1000000000\n",
    "    # for photo in photos:\n",
    "    #     distance = photo - std\n",
    "    #     if min_distance > distance:\n",
    "    #         min_distance = distance\n",
    "    #         # argmin of those pixels\n",
    "            \n",
    "\n",
    "maximum_likelihood(photos)"
   ]
  },
  {
   "cell_type": "code",
   "execution_count": null,
   "id": "addecf80-27f0-411a-b206-48bca34ad4de",
   "metadata": {},
   "outputs": [],
   "source": [
    "avg = np.mean(photos, axis=0)"
   ]
  },
  {
   "cell_type": "code",
   "execution_count": null,
   "id": "bb1d01c2-616f-4c92-b750-df7b32693934",
   "metadata": {},
   "outputs": [],
   "source": [
    "for photo in photos[...,::1]:\n",
    "    print(np.subtract(photo, avg).shape)"
   ]
  }
 ],
 "metadata": {
  "kernelspec": {
   "display_name": "Python 3 (ipykernel)",
   "language": "python",
   "name": "python3"
  },
  "language_info": {
   "codemirror_mode": {
    "name": "ipython",
    "version": 3
   },
   "file_extension": ".py",
   "mimetype": "text/x-python",
   "name": "python",
   "nbconvert_exporter": "python",
   "pygments_lexer": "ipython3",
   "version": "3.11.8"
  }
 },
 "nbformat": 4,
 "nbformat_minor": 5
}
